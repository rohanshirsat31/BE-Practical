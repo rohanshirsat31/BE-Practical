{
 "cells": [
  {
   "cell_type": "code",
   "execution_count": 1,
   "metadata": {},
   "outputs": [],
   "source": [
    "# Define the documents\n",
    "document1 = \"The quick brown fox jumped over the lazy dog.\"\n",
    "document2 = \"The lazy dog slept in the sun.\"\n",
    "# Step 1: Tokenize the documents\n",
    "# Convert each document to lowercase and split it into words\n",
    "tokens1 = document1.lower().split()\n",
    "tokens2 = document2.lower().split()"
   ]
  },
  {
   "cell_type": "code",
   "execution_count": 7,
   "metadata": {},
   "outputs": [],
   "source": [
    "#Combine the tokens into a list of unique terms\n",
    "terms = list(set(tokens1 + tokens2))\n",
    "# Step 2: Build the inverted index\n",
    "# Create an empty dictionary to store the inverted index\n",
    "inverted_index = {}\n",
    "# For each term, find the documents that contain it\n",
    "for term in terms:\n",
    " documents = []\n",
    " if term in tokens1:\n",
    "    documents.append(\"Document 1\")\n",
    " if term in tokens2:\n",
    "    documents.append(\"Document 2\")\n",
    " inverted_index[term] = documents"
   ]
  },
  {
   "cell_type": "code",
   "execution_count": 8,
   "metadata": {},
   "outputs": [
    {
     "name": "stdout",
     "output_type": "stream",
     "text": [
      "slept -> Document 2\n",
      "fox -> Document 1\n",
      "lazy -> Document 1, Document 2\n",
      "over -> Document 1\n",
      "quick -> Document 1\n",
      "dog -> Document 2\n",
      "in -> Document 2\n",
      "jumped -> Document 1\n",
      "brown -> Document 1\n",
      "sun. -> Document 2\n",
      "dog. -> Document 1\n",
      "the -> Document 1, Document 2\n"
     ]
    }
   ],
   "source": [
    "# Step 3: Print the inverted index\n",
    "for term, documents in inverted_index.items():\n",
    " print(term, \"->\", \", \".join(documents))"
   ]
  }
 ],
 "metadata": {
  "kernelspec": {
   "display_name": "Python 3",
   "language": "python",
   "name": "python3"
  },
  "language_info": {
   "codemirror_mode": {
    "name": "ipython",
    "version": 3
   },
   "file_extension": ".py",
   "mimetype": "text/x-python",
   "name": "python",
   "nbconvert_exporter": "python",
   "pygments_lexer": "ipython3",
   "version": "3.9.13"
  },
  "orig_nbformat": 4
 },
 "nbformat": 4,
 "nbformat_minor": 2
}
