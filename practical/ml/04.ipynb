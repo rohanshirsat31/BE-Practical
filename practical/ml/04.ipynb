{
 "cells": [
  {
   "cell_type": "code",
   "execution_count": null,
   "metadata": {},
   "outputs": [],
   "source": [
    "import pandas as pd \n",
    "import numpy as np \n",
    "import matplotlib.pyplot as plt \n",
    "from sklearn.cluster import KMeans \n",
    "import seaborn as sns"
   ]
  },
  {
   "cell_type": "code",
   "execution_count": null,
   "metadata": {},
   "outputs": [],
   "source": [
    "data = pd.read_csv('Iris.csv')\n",
    "data"
   ]
  },
  {
   "cell_type": "code",
   "execution_count": null,
   "metadata": {},
   "outputs": [],
   "source": [
    "len(data)"
   ]
  },
  {
   "cell_type": "code",
   "execution_count": null,
   "metadata": {},
   "outputs": [],
   "source": [
    "data.shape"
   ]
  },
  {
   "cell_type": "code",
   "execution_count": null,
   "metadata": {},
   "outputs": [],
   "source": [
    "data.columns"
   ]
  },
  {
   "cell_type": "code",
   "execution_count": null,
   "metadata": {},
   "outputs": [],
   "source": [
    "for i,col in enumerate(data.columns):\n",
    "    print(f'Column number {1+i} is {col}')"
   ]
  },
  {
   "cell_type": "code",
   "execution_count": null,
   "metadata": {},
   "outputs": [],
   "source": [
    "data.dtypes"
   ]
  },
  {
   "cell_type": "code",
   "execution_count": null,
   "metadata": {},
   "outputs": [],
   "source": [
    "data.info()"
   ]
  },
  {
   "cell_type": "code",
   "execution_count": null,
   "metadata": {},
   "outputs": [],
   "source": [
    "data.drop('Id', axis=1, inplace=True)\n",
    "data.head()"
   ]
  },
  {
   "cell_type": "code",
   "execution_count": null,
   "metadata": {},
   "outputs": [],
   "source": [
    "data.isna().sum()"
   ]
  },
  {
   "cell_type": "code",
   "execution_count": null,
   "metadata": {},
   "outputs": [],
   "source": [
    "target_data = data.iloc[:,4]\n",
    "target_data.head()"
   ]
  },
  {
   "cell_type": "code",
   "execution_count": null,
   "metadata": {},
   "outputs": [],
   "source": [
    "clustering_data = data.iloc[:,[0,1,2,3]]\n",
    "clustering_data.head()"
   ]
  },
  {
   "cell_type": "code",
   "execution_count": null,
   "metadata": {},
   "outputs": [],
   "source": [
    "fig, ax = plt.subplots(figsize=(15,7))\n",
    "sns.set(font_scale=1.5)\n",
    "ax = sns.scatterplot(x=data['SepalLengthCm'],y=data['SepalWidthCm'], s=70, color='#f73434',\n",
    "edgecolor='#f73434', linewidth=0.3)\n",
    "ax.set_ylabel('Sepal Width (in cm)')\n",
    "ax.set_xlabel('Sepal Length (in cm)')\n",
    "plt.title('Sepal Length vs Width', fontsize = 20)\n",
    "plt.show()"
   ]
  },
  {
   "cell_type": "code",
   "execution_count": null,
   "metadata": {},
   "outputs": [],
   "source": [
    "from sklearn.cluster import KMeans\n",
    "wcss=[]\n",
    "for i in range(1,11):\n",
    "    km = KMeans(i)\n",
    "\n",
    "km.fit(clustering_data)\n",
    "wcss.append(km.inertia_)\n",
    "np.array(wcss)\n"
   ]
  },
  {
   "cell_type": "code",
   "execution_count": null,
   "metadata": {},
   "outputs": [],
   "source": [
    "kms = KMeans(n_clusters=3, init='k-means++')\n",
    "kms.fit(clustering_data)\n",
    "KMeans(n_clusters=3)"
   ]
  },
  {
   "cell_type": "code",
   "execution_count": null,
   "metadata": {},
   "outputs": [],
   "source": [
    "clusters = clustering_data.copy()\n",
    "clusters['Cluster_Prediction'] = kms.fit_predict(clustering_data)\n",
    "clusters.head()"
   ]
  },
  {
   "cell_type": "code",
   "execution_count": null,
   "metadata": {},
   "outputs": [],
   "source": [
    "kms.cluster_centers_"
   ]
  },
  {
   "cell_type": "code",
   "execution_count": null,
   "metadata": {},
   "outputs": [],
   "source": [
    "fig, ax = plt.subplots(figsize=(15,7))\n",
    "plt.scatter(x=clusters[clusters['Cluster_Prediction'] == 0]['SepalLengthCm'],\n",
    " y=clusters[clusters['Cluster_Prediction'] == 0]['SepalWidthCm'],\n",
    " s=70,edgecolor='teal', linewidth=0.3, c='teal', label='Iris-versicolor')\n",
    "plt.scatter(x=clusters[clusters['Cluster_Prediction'] == 1]['SepalLengthCm'],\n",
    " y=clusters[clusters['Cluster_Prediction'] == 1]['SepalWidthCm'],\n",
    " s=70,edgecolor='lime', linewidth=0.3, c='lime', label='Iris-setosa')\n",
    "plt.scatter(x=clusters[clusters['Cluster_Prediction'] == 2]['SepalLengthCm'],\n",
    " y=clusters[clusters['Cluster_Prediction'] == 2]['SepalWidthCm'],\n",
    " s=70,edgecolor='magenta', linewidth=0.3, c='magenta', label='Iris-virginica')\n",
    "plt.scatter(x=kms.cluster_centers_[:, 0], y=kms.cluster_centers_[:, 1], s = 170, c = 'yellow', label = \n",
    "'Centroids',edgecolor='black', linewidth=0.3)\n",
    "plt.legend(loc='upper right')\n",
    "plt.xlim(4,8)\n",
    "plt.ylim(1.8,4.5)\n",
    "ax.set_ylabel('Sepal Width (in cm)')\n",
    "ax.set_xlabel('Sepal Length (in cm)')\n",
    "plt.title('Clusters', fontsize = 20)\n",
    "plt.show()\n"
   ]
  },
  {
   "cell_type": "code",
   "execution_count": null,
   "metadata": {},
   "outputs": [],
   "source": []
  }
 ],
 "metadata": {
  "kernelspec": {
   "display_name": "base",
   "language": "python",
   "name": "python3"
  },
  "language_info": {
   "codemirror_mode": {
    "name": "ipython",
    "version": 3
   },
   "file_extension": ".py",
   "mimetype": "text/x-python",
   "name": "python",
   "nbconvert_exporter": "python",
   "pygments_lexer": "ipython3",
   "version": "3.9.12"
  },
  "orig_nbformat": 4
 },
 "nbformat": 4,
 "nbformat_minor": 2
}
