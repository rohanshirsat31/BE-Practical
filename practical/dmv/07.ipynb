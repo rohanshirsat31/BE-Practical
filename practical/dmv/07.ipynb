{
 "cells": [
  {
   "cell_type": "code",
   "execution_count": 1,
   "metadata": {},
   "outputs": [],
   "source": [
    "import requests\n",
    "import pandas as pd\n",
    "import datetime\n",
    "# Set your OpenWeatherMap API key\n",
    "api_key = 'fb365aa6104829b44455572365ff3b4e'"
   ]
  },
  {
   "cell_type": "code",
   "execution_count": 4,
   "metadata": {},
   "outputs": [
    {
     "data": {
      "text/plain": [
       "{'dt': 1690189200,\n",
       " 'main': {'temp': 298.21,\n",
       "  'feels_like': 298.81,\n",
       "  'temp_min': 298.1,\n",
       "  'temp_max': 298.21,\n",
       "  'pressure': 1006,\n",
       "  'sea_level': 1006,\n",
       "  'grnd_level': 942,\n",
       "  'humidity': 78,\n",
       "  'temp_kf': 0.11},\n",
       " 'weather': [{'id': 804,\n",
       "   'main': 'Clouds',\n",
       "   'description': 'overcast clouds',\n",
       "   'icon': '04d'}],\n",
       " 'clouds': {'all': 100},\n",
       " 'wind': {'speed': 6.85, 'deg': 258, 'gust': 12.9},\n",
       " 'visibility': 10000,\n",
       " 'pop': 0.59,\n",
       " 'sys': {'pod': 'd'},\n",
       " 'dt_txt': '2023-07-24 09:00:00'}"
      ]
     },
     "execution_count": 4,
     "metadata": {},
     "output_type": "execute_result"
    }
   ],
   "source": [
    "lat = 18.184135\n",
    "lon = 74.610764\n",
    "#https://openweathermap.org/api/one-call-3#how How to use api call\n",
    "# Construct the API URL\n",
    "api_url = f\"http://api.openweathermap.org/data/2.5/forecast?lat={lat}&lon={lon}&appid={api_key}\"\n",
    "# Send a GET request to the API\n",
    "response = requests.get(api_url)\n",
    "weather_data = response.json() #pass response to weather_data object(dictionary)\n",
    "weather_data.keys()\n",
    "dict_keys=(['cod', 'message', 'cnt', 'list', 'city'])\n",
    "weather_data['list'][0]\n",
    "{'dt': 1690189200,\n",
    " 'main': {'temp': 298.21,\n",
    " 'feels_like': 298.81,\n",
    " 'temp_min': 298.1,\n",
    " 'temp_max': 298.21,\n",
    " 'pressure': 1006,\n",
    " 'sea_level': 1006,\n",
    " 'grnd_level': 942,\n",
    " 'humidity': 78,\n",
    " 'temp_kf': 0.11},\n",
    " 'weather': [{'id': 804,\n",
    " 'main': 'Clouds',\n",
    " 'description': 'overcast clouds',\n",
    " 'icon': '04d'}],\n",
    " 'clouds': {'all': 100},\n",
    " 'wind': {'speed': 6.85, 'deg': 258, 'gust': 12.9},\n",
    " 'visibility': 10000,\n",
    " 'pop': 0.59,\n",
    " 'sys': {'pod': 'd'},\n",
    " 'dt_txt': '2023-07-24 09:00:00'}\n"
   ]
  },
  {
   "cell_type": "code",
   "execution_count": 5,
   "metadata": {},
   "outputs": [
    {
     "data": {
      "text/plain": [
       "40"
      ]
     },
     "execution_count": 5,
     "metadata": {},
     "output_type": "execute_result"
    }
   ],
   "source": [
    "len(weather_data['list'])"
   ]
  },
  {
   "cell_type": "code",
   "execution_count": 6,
   "metadata": {},
   "outputs": [
    {
     "data": {
      "text/plain": [
       "'light rain'"
      ]
     },
     "execution_count": 6,
     "metadata": {},
     "output_type": "execute_result"
    }
   ],
   "source": [
    "weather_data['list'][0]['weather'][0]['description']"
   ]
  },
  {
   "cell_type": "code",
   "execution_count": 9,
   "metadata": {},
   "outputs": [
    {
     "data": {
      "text/plain": [
       "304.0"
      ]
     },
     "execution_count": 9,
     "metadata": {},
     "output_type": "execute_result"
    }
   ],
   "source": [
    "temperatures = [item['main']['temp'] for item in weather_data['list']]\n",
    "timestamps = [pd.to_datetime(item['dt'], unit='s') for item in weather_data['list']]\n",
    "temperature = [item['main']['temp'] for item in weather_data['list']]\n",
    "humidity = [item['main']['humidity'] for item in weather_data['list']]\n",
    "wind_speed = [item['wind']['speed'] for item in weather_data['list']]\n",
    "weather_description = [item['weather'][0]['description'] for item in weather_data['list']]\n",
    "# Create a pandas DataFrame with the extracted weather data\n",
    "weather_df = pd.DataFrame({\n",
    "'Timestamp': timestamps,\n",
    "'Temperature': temperatures,\n",
    "'humidity': humidity,\n",
    "'wind_speed': wind_speed,\n",
    "'weather_description': weather_description,\n",
    "})\n",
    "# Set the Timestamp column as the DataFrame's index\n",
    "weather_df.set_index('Timestamp', inplace=True)\n",
    "max_temp = weather_df['Temperature'].max()\n",
    "max_temp"
   ]
  },
  {
   "cell_type": "code",
   "execution_count": 10,
   "metadata": {},
   "outputs": [
    {
     "data": {
      "text/plain": [
       "295.35"
      ]
     },
     "execution_count": 10,
     "metadata": {},
     "output_type": "execute_result"
    }
   ],
   "source": [
    "min_temp = weather_df['Temperature'].min()\n",
    "min_temp"
   ]
  },
  {
   "cell_type": "code",
   "execution_count": 12,
   "metadata": {},
   "outputs": [],
   "source": [
    "# Handling missing values\n",
    "weather_df.fillna(0, inplace=True) # Replace missing values with 0 or appropriate value\n",
    "# Handling inconsistent format (if applicable)\n",
    "weather_df['Temperature'] = weather_df['Temperature'].apply(lambda x: x - 273.15 if isinstance(x, float)else x) "
   ]
  },
  {
   "cell_type": "code",
   "execution_count": 13,
   "metadata": {},
   "outputs": [
    {
     "name": "stdout",
     "output_type": "stream",
     "text": [
      "                     Temperature  humidity  wind_speed weather_description\n",
      "Timestamp                                                                 \n",
      "2023-09-24 15:00:00        25.12        79        4.65          light rain\n",
      "2023-09-24 18:00:00        24.72        81        4.40          light rain\n",
      "2023-09-24 21:00:00        23.97        83        3.59          light rain\n",
      "2023-09-25 00:00:00        23.05        87        2.86          light rain\n",
      "2023-09-25 03:00:00        23.52        84        3.21          light rain\n",
      "2023-09-25 06:00:00        24.44        79        2.70          light rain\n",
      "2023-09-25 09:00:00        26.89        67        3.14          light rain\n",
      "2023-09-25 12:00:00        25.73        75        3.27          light rain\n",
      "2023-09-25 15:00:00        23.79        86        4.73       moderate rain\n",
      "2023-09-25 18:00:00        23.00        89        3.89          light rain\n",
      "2023-09-25 21:00:00        22.64        90        3.26       broken clouds\n",
      "2023-09-26 00:00:00        22.35        90        2.88     overcast clouds\n",
      "2023-09-26 03:00:00        24.22        81        3.50     overcast clouds\n",
      "2023-09-26 06:00:00        27.68        65        2.75          light rain\n",
      "2023-09-26 09:00:00        29.90        55        2.51          light rain\n",
      "2023-09-26 12:00:00        28.18        65        2.75          light rain\n",
      "2023-09-26 15:00:00        25.20        78        4.73          light rain\n",
      "2023-09-26 18:00:00        23.81        85        4.50          light rain\n",
      "2023-09-26 21:00:00        23.04        88        3.66     overcast clouds\n",
      "2023-09-27 00:00:00        22.62        89        3.35     overcast clouds\n",
      "2023-09-27 03:00:00        24.85        77        3.93       broken clouds\n",
      "2023-09-27 06:00:00        28.75        61        3.44       broken clouds\n",
      "2023-09-27 09:00:00        30.85        50        4.26          light rain\n",
      "2023-09-27 12:00:00        28.53        62        3.97          light rain\n",
      "2023-09-27 15:00:00        26.17        74        4.11          light rain\n",
      "2023-09-27 18:00:00        24.85        80        3.99          light rain\n",
      "2023-09-27 21:00:00        24.15        83        4.67          light rain\n",
      "2023-09-28 00:00:00        23.46        87        4.35          light rain\n",
      "2023-09-28 03:00:00        24.21        82        4.51     overcast clouds\n",
      "2023-09-28 06:00:00        28.23        64        4.72          light rain\n",
      "2023-09-28 09:00:00        30.61        53        6.03          light rain\n",
      "2023-09-28 12:00:00        27.81        66        6.21          light rain\n",
      "2023-09-28 15:00:00        24.63        82        5.10       moderate rain\n",
      "2023-09-28 18:00:00        24.27        83        5.09       moderate rain\n",
      "2023-09-28 21:00:00        23.39        86        5.36          light rain\n",
      "2023-09-29 00:00:00        22.46        90        4.94          light rain\n",
      "2023-09-29 03:00:00        22.20        93        4.46          light rain\n",
      "2023-09-29 06:00:00        23.92        84        4.94          light rain\n",
      "2023-09-29 09:00:00        26.00        74        5.59          light rain\n",
      "2023-09-29 12:00:00        24.42        83        4.37       moderate rain\n"
     ]
    }
   ],
   "source": [
    "print(weather_df)"
   ]
  }
 ],
 "metadata": {
  "kernelspec": {
   "display_name": "base",
   "language": "python",
   "name": "python3"
  },
  "language_info": {
   "codemirror_mode": {
    "name": "ipython",
    "version": 3
   },
   "file_extension": ".py",
   "mimetype": "text/x-python",
   "name": "python",
   "nbconvert_exporter": "python",
   "pygments_lexer": "ipython3",
   "version": "3.9.12"
  },
  "orig_nbformat": 4
 },
 "nbformat": 4,
 "nbformat_minor": 2
}
